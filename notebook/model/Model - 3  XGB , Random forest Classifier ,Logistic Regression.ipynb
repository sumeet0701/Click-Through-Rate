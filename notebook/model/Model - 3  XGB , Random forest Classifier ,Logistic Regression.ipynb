{
 "cells": [
  {
   "cell_type": "markdown",
   "metadata": {},
   "source": [
    "## Logistic Regression\n",
    "\n",
    "- Logistic Regression is commonly used to estimate the probability that an instance belongs to a particular class.\n",
    "\n",
    "- If the estimated probability that an instance is greater than 50%, then the model predicts that the instance belongs to that class 1,\n",
    "or else it predicts that it does not. This makes it a binary classifier. \n",
    "\n",
    "- In this notebook, we will look at the theory behind Logistic Regression and use it to indicating whether or not a particular internet user clicked on an Advertisement.\n",
    "\n",
    "- We will try to create a model that will predict whether or not they will click on an ad based on the features of that user.\n",
    "\n",
    "### **This data set contains the following features:**\n",
    "\n",
    "- ```Daily Time Spent on Site```: consumer time on-site in minutes\n",
    "\n",
    "- ``` Age```: customer age in years\n",
    "\n",
    "- ```Area Income```: Avg. Income of geographical area of consumer\n",
    "\n",
    "- ```Daily Internet Usage```: Avg. minutes a day consumer is on the internet\n",
    "\n",
    "- ```Ad Topic Line```: Headline of the advertisement\n",
    "\n",
    "- ```City```: City of consumer\n",
    "\n",
    "- ```Male```: Whether or not the consumer was male\n",
    "\n",
    "- ```Country```: Country of consumer\n",
    "\n",
    "- ```Timestamp```: Time at which consumer clicked on Ad or closed window\n",
    "\n",
    "- ```Clicked on Ad```: 0 or 1 indicated clicking on Ad"
   ]
  },
  {
   "cell_type": "markdown",
   "metadata": {},
   "source": [
    "## Load Libraries"
   ]
  },
  {
   "cell_type": "code",
   "execution_count": 1,
   "metadata": {},
   "outputs": [],
   "source": [
    "import numpy as np # linear algebra\n",
    "import pandas as pd # data processing, CSV file I/O (e.g. pd.read_csv)\n",
    "import pandas as pd\n",
    "import matplotlib.pyplot as plt\n",
    "\n",
    "import seaborn as sns\n",
    "plt.style.use('seaborn')\n",
    "sns.set_style('whitegrid')\n",
    "sns.set_context('notebook')\n",
    "\n",
    "import missingno as msno\n",
    "from sklearn.preprocessing import LabelEncoder\n",
    "\n",
    "#ignore warnings \n",
    "import warnings\n",
    "warnings.filterwarnings('ignore')"
   ]
  },
  {
   "cell_type": "markdown",
   "metadata": {},
   "source": [
    "## Load Data"
   ]
  },
  {
   "cell_type": "code",
   "execution_count": 2,
   "metadata": {},
   "outputs": [
    {
     "data": {
      "text/html": [
       "<div>\n",
       "<style scoped>\n",
       "    .dataframe tbody tr th:only-of-type {\n",
       "        vertical-align: middle;\n",
       "    }\n",
       "\n",
       "    .dataframe tbody tr th {\n",
       "        vertical-align: top;\n",
       "    }\n",
       "\n",
       "    .dataframe thead th {\n",
       "        text-align: right;\n",
       "    }\n",
       "</style>\n",
       "<table border=\"1\" class=\"dataframe\">\n",
       "  <thead>\n",
       "    <tr style=\"text-align: right;\">\n",
       "      <th></th>\n",
       "      <th>Daily Time Spent on Site</th>\n",
       "      <th>Age</th>\n",
       "      <th>Area Income</th>\n",
       "      <th>Daily Internet Usage</th>\n",
       "      <th>Ad Topic Line</th>\n",
       "      <th>City</th>\n",
       "      <th>Male</th>\n",
       "      <th>Country</th>\n",
       "      <th>Timestamp</th>\n",
       "      <th>Clicked on Ad</th>\n",
       "    </tr>\n",
       "  </thead>\n",
       "  <tbody>\n",
       "    <tr>\n",
       "      <th>0</th>\n",
       "      <td>68.95</td>\n",
       "      <td>35</td>\n",
       "      <td>61833.90</td>\n",
       "      <td>256.09</td>\n",
       "      <td>Cloned 5thgeneration orchestration</td>\n",
       "      <td>Wrightburgh</td>\n",
       "      <td>0</td>\n",
       "      <td>Tunisia</td>\n",
       "      <td>2016-03-27 00:53:11</td>\n",
       "      <td>0</td>\n",
       "    </tr>\n",
       "    <tr>\n",
       "      <th>1</th>\n",
       "      <td>80.23</td>\n",
       "      <td>31</td>\n",
       "      <td>68441.85</td>\n",
       "      <td>193.77</td>\n",
       "      <td>Monitored national standardization</td>\n",
       "      <td>West Jodi</td>\n",
       "      <td>1</td>\n",
       "      <td>Nauru</td>\n",
       "      <td>2016-04-04 01:39:02</td>\n",
       "      <td>0</td>\n",
       "    </tr>\n",
       "    <tr>\n",
       "      <th>2</th>\n",
       "      <td>69.47</td>\n",
       "      <td>26</td>\n",
       "      <td>59785.94</td>\n",
       "      <td>236.50</td>\n",
       "      <td>Organic bottom-line service-desk</td>\n",
       "      <td>Davidton</td>\n",
       "      <td>0</td>\n",
       "      <td>San Marino</td>\n",
       "      <td>2016-03-13 20:35:42</td>\n",
       "      <td>0</td>\n",
       "    </tr>\n",
       "    <tr>\n",
       "      <th>3</th>\n",
       "      <td>74.15</td>\n",
       "      <td>29</td>\n",
       "      <td>54806.18</td>\n",
       "      <td>245.89</td>\n",
       "      <td>Triple-buffered reciprocal time-frame</td>\n",
       "      <td>West Terrifurt</td>\n",
       "      <td>1</td>\n",
       "      <td>Italy</td>\n",
       "      <td>2016-01-10 02:31:19</td>\n",
       "      <td>0</td>\n",
       "    </tr>\n",
       "    <tr>\n",
       "      <th>4</th>\n",
       "      <td>68.37</td>\n",
       "      <td>35</td>\n",
       "      <td>73889.99</td>\n",
       "      <td>225.58</td>\n",
       "      <td>Robust logistical utilization</td>\n",
       "      <td>South Manuel</td>\n",
       "      <td>0</td>\n",
       "      <td>Iceland</td>\n",
       "      <td>2016-06-03 03:36:18</td>\n",
       "      <td>0</td>\n",
       "    </tr>\n",
       "  </tbody>\n",
       "</table>\n",
       "</div>"
      ],
      "text/plain": [
       "   Daily Time Spent on Site  Age  Area Income  Daily Internet Usage  \\\n",
       "0                     68.95   35     61833.90                256.09   \n",
       "1                     80.23   31     68441.85                193.77   \n",
       "2                     69.47   26     59785.94                236.50   \n",
       "3                     74.15   29     54806.18                245.89   \n",
       "4                     68.37   35     73889.99                225.58   \n",
       "\n",
       "                           Ad Topic Line            City  Male     Country  \\\n",
       "0     Cloned 5thgeneration orchestration     Wrightburgh     0     Tunisia   \n",
       "1     Monitored national standardization       West Jodi     1       Nauru   \n",
       "2       Organic bottom-line service-desk        Davidton     0  San Marino   \n",
       "3  Triple-buffered reciprocal time-frame  West Terrifurt     1       Italy   \n",
       "4          Robust logistical utilization    South Manuel     0     Iceland   \n",
       "\n",
       "             Timestamp  Clicked on Ad  \n",
       "0  2016-03-27 00:53:11              0  \n",
       "1  2016-04-04 01:39:02              0  \n",
       "2  2016-03-13 20:35:42              0  \n",
       "3  2016-01-10 02:31:19              0  \n",
       "4  2016-06-03 03:36:18              0  "
      ]
     },
     "execution_count": 2,
     "metadata": {},
     "output_type": "execute_result"
    }
   ],
   "source": [
    "df = pd.read_csv(r'C:\\Users\\Vivek 6666\\Downloads\\advertising.csv')\n",
    "df.head()"
   ]
  },
  {
   "cell_type": "markdown",
   "metadata": {},
   "source": [
    "## Basic model building based on the actual data"
   ]
  },
  {
   "cell_type": "code",
   "execution_count": 3,
   "metadata": {},
   "outputs": [],
   "source": [
    "from sklearn.metrics import accuracy_score, confusion_matrix, classification_report\n",
    "\n",
    "def print_score(clf, X_train, y_train, X_test, y_test, train=True):\n",
    "    if train:\n",
    "        pred = clf.predict(X_train)\n",
    "        clf_report = pd.DataFrame(classification_report(y_train, pred, output_dict=True))\n",
    "        print(\"Train Result:\\n================================================\")\n",
    "        print(f\"Accuracy Score: {accuracy_score(y_train, pred) * 100:.2f}%\")\n",
    "        print(\"_______________________________________________\")\n",
    "        print(f\"CLASSIFICATION REPORT:\\n{clf_report}\")\n",
    "        print(\"_______________________________________________\")\n",
    "        print(f\"Confusion Matrix: \\n {confusion_matrix(y_train, pred)}\\n\")\n",
    "        \n",
    "    elif train==False:\n",
    "        pred = clf.predict(X_test)\n",
    "        clf_report = pd.DataFrame(classification_report(y_test, pred, output_dict=True))\n",
    "        print(\"Test Result:\\n================================================\")        \n",
    "        print(f\"Accuracy Score: {accuracy_score(y_test, pred) * 100:.2f}%\")\n",
    "        print(\"_______________________________________________\")\n",
    "        print(f\"CLASSIFICATION REPORT:\\n{clf_report}\")\n",
    "        print(\"_______________________________________________\")\n",
    "        print(f\"Confusion Matrix: \\n {confusion_matrix(y_test, pred)}\\n\")"
   ]
  },
  {
   "cell_type": "code",
   "execution_count": 4,
   "metadata": {},
   "outputs": [],
   "source": [
    "from sklearn.preprocessing import StandardScaler, MinMaxScaler, OrdinalEncoder\n",
    "from sklearn.compose import make_column_transformer\n",
    "from sklearn.model_selection import train_test_split"
   ]
  },
  {
   "cell_type": "code",
   "execution_count": 5,
   "metadata": {},
   "outputs": [],
   "source": [
    "X = df.drop(['Timestamp', 'Clicked on Ad', 'Ad Topic Line', 'Country', 'City'], axis=1)\n",
    "y = df['Clicked on Ad']\n",
    "\n",
    "X_train, X_test, y_train, y_test = train_test_split(X, y, test_size=0.3, random_state=42)\n",
    "\n",
    "num_columns = ['Daily Time Spent on Site', 'Age', 'Area Income', 'Daily Internet Usage', 'Male']\n",
    "\n",
    "ct = make_column_transformer(\n",
    "    (MinMaxScaler(), num_columns),\n",
    "#     (StandardScaler(), num_columns),\n",
    "    remainder='passthrough')\n",
    "\n",
    "X_train = ct.fit_transform(X_train)\n",
    "X_test = ct.transform(X_test)\n",
    "X_train = pd.DataFrame(X_train, columns=num_columns)\n",
    "X_test = pd.DataFrame(X_test, columns=num_columns)"
   ]
  },
  {
   "cell_type": "code",
   "execution_count": 6,
   "metadata": {},
   "outputs": [
    {
     "name": "stdout",
     "output_type": "stream",
     "text": [
      "Train Result:\n",
      "================================================\n",
      "Accuracy Score: 96.14%\n",
      "_______________________________________________\n",
      "CLASSIFICATION REPORT:\n",
      "                    0           1  accuracy   macro avg  weighted avg\n",
      "precision    0.936000    0.990769  0.961429    0.963385      0.963072\n",
      "recall       0.991525    0.930636  0.961429    0.961081      0.961429\n",
      "f1-score     0.962963    0.959762  0.961429    0.961362      0.961381\n",
      "support    354.000000  346.000000  0.961429  700.000000    700.000000\n",
      "_______________________________________________\n",
      "Confusion Matrix: \n",
      " [[351   3]\n",
      " [ 24 322]]\n",
      "\n",
      "Test Result:\n",
      "================================================\n",
      "Accuracy Score: 95.00%\n",
      "_______________________________________________\n",
      "CLASSIFICATION REPORT:\n",
      "                    0           1  accuracy   macro avg  weighted avg\n",
      "precision    0.917197    0.986014      0.95    0.951606      0.952523\n",
      "recall       0.986301    0.915584      0.95    0.950943      0.950000\n",
      "f1-score     0.950495    0.949495      0.95    0.949995      0.949982\n",
      "support    146.000000  154.000000      0.95  300.000000    300.000000\n",
      "_______________________________________________\n",
      "Confusion Matrix: \n",
      " [[144   2]\n",
      " [ 13 141]]\n",
      "\n"
     ]
    }
   ],
   "source": [
    "from sklearn.linear_model import LogisticRegression\n",
    "\n",
    "lr_clf = LogisticRegression(solver='liblinear')\n",
    "lr_clf.fit(X_train, y_train)\n",
    "\n",
    "print_score(lr_clf, X_train, y_train, X_test, y_test, train=True)\n",
    "print_score(lr_clf, X_train, y_train, X_test, y_test, train=False)"
   ]
  },
  {
   "cell_type": "markdown",
   "metadata": {},
   "source": [
    "## Performance Measurement\n",
    "\n",
    "**1. Confusion Matrix**\n",
    "- Each row: actual class\n",
    "- Each column: predicted class\n",
    "\n",
    "**First row: Non-clicked Ads, the negative class:**\n",
    "\n",
    "- 144 were correctly classified as Non-clicked Ads. True negatives.\n",
    "- Remaining 13 were wrongly classified as clicked Ads. False-positive\n",
    "\n",
    "**Second row: The clicked Ads, the positive class:**\n",
    "\n",
    "- 2 were incorrectly classified as Non-clicked Ads. False negatives\n",
    "- 141 were correctly classified clicked Ads. True positives\n",
    "\n",
    "**2. Precision**\n",
    "- Precision measures the accuracy of positive predictions. \n",
    "- Also called the precision of the classifier = 98.01%\n",
    "\n",
    "**3. Recall**\n",
    "- Precision is typically used with recall (Sensitivity or True Positive Rate).\n",
    "- The ratio of positive instances that are correctly detected by the classifier. =91%\n",
    "\n",
    "**4. F1 Score**\n",
    "- F1  score is the harmonic mean of precision and recall. \n",
    "- Regular mean gives equal weight to all values. \n",
    "- Harmonic mean gives more weight to low values. = 94%\n",
    "\n",
    "**5. Precision / Recall Tradeoff**\n",
    "- Increasing precision reduced recall and vice versa"
   ]
  },
  {
   "cell_type": "code",
   "execution_count": 7,
   "metadata": {},
   "outputs": [
    {
     "data": {
      "text/plain": [
       "array([1, 1, 1, 1, 0, 0, 0, 1, 0, 1, 0, 1, 1, 0, 1, 1, 1, 1, 0, 1, 0, 1,\n",
       "       1, 0, 0, 1, 0, 0, 1, 1, 0, 1, 0, 1, 1, 0, 0, 1, 1, 1, 0, 1, 0, 1,\n",
       "       0, 0, 1, 1, 0, 1, 1, 0, 1, 0, 0, 0, 0, 1, 0, 1, 0, 1, 0, 1, 1, 1,\n",
       "       1, 0, 1, 1, 1, 1, 1, 0, 1, 0, 0, 1, 1, 0, 1, 1, 1, 1, 0, 0, 0, 0,\n",
       "       0, 0, 0, 1, 0, 1, 0, 0, 1, 1, 0, 0, 1, 0, 1, 0, 1, 0, 1, 0, 1, 0,\n",
       "       1, 0, 1, 1, 0, 0, 0, 0, 0, 0, 1, 1, 1, 0, 0, 0, 1, 0, 0, 1, 1, 1,\n",
       "       1, 0, 0, 0, 0, 1, 0, 1, 0, 0, 1, 1, 0, 1, 1, 0, 0, 0, 0, 0, 1, 0,\n",
       "       1, 0, 1, 0, 0, 0, 1, 1, 0, 0, 1, 0, 0, 0, 0, 0, 1, 1, 1, 0, 0, 1,\n",
       "       1, 1, 1, 1, 1, 0, 1, 1, 1, 1, 0, 1, 1, 1, 0, 1, 0, 0, 1, 0, 1, 1,\n",
       "       0, 1, 0, 0, 0, 0, 1, 0, 1, 0, 0, 0, 0, 1, 1, 1, 1, 0, 0, 1, 0, 1,\n",
       "       0, 1, 1, 1, 0, 0, 0, 0, 0, 0, 1, 1, 0, 1, 0, 0, 1, 0, 1, 0, 0, 0,\n",
       "       0, 0, 0, 0, 0, 0, 0, 1, 1, 1, 1, 0, 0, 0, 1, 1, 1, 0, 0, 1, 1, 1,\n",
       "       1, 0, 0, 0, 0, 1, 1, 0, 1, 0, 1, 0, 1, 0, 0, 0, 1, 0, 0, 1, 1, 0,\n",
       "       0, 0, 1, 1, 0, 0, 0, 0, 0, 1, 0, 1, 1, 0], dtype=int64)"
      ]
     },
     "execution_count": 7,
     "metadata": {},
     "output_type": "execute_result"
    }
   ],
   "source": [
    "pred = lr_clf.predict(X_test)\n",
    "pred "
   ]
  },
  {
   "cell_type": "code",
   "execution_count": 8,
   "metadata": {},
   "outputs": [
    {
     "data": {
      "text/html": [
       "<div>\n",
       "<style scoped>\n",
       "    .dataframe tbody tr th:only-of-type {\n",
       "        vertical-align: middle;\n",
       "    }\n",
       "\n",
       "    .dataframe tbody tr th {\n",
       "        vertical-align: top;\n",
       "    }\n",
       "\n",
       "    .dataframe thead th {\n",
       "        text-align: right;\n",
       "    }\n",
       "</style>\n",
       "<table border=\"1\" class=\"dataframe\">\n",
       "  <thead>\n",
       "    <tr style=\"text-align: right;\">\n",
       "      <th></th>\n",
       "      <th>Actual Value</th>\n",
       "      <th>Predicted Value</th>\n",
       "    </tr>\n",
       "  </thead>\n",
       "  <tbody>\n",
       "    <tr>\n",
       "      <th>521</th>\n",
       "      <td>1</td>\n",
       "      <td>1</td>\n",
       "    </tr>\n",
       "    <tr>\n",
       "      <th>737</th>\n",
       "      <td>1</td>\n",
       "      <td>1</td>\n",
       "    </tr>\n",
       "    <tr>\n",
       "      <th>740</th>\n",
       "      <td>1</td>\n",
       "      <td>1</td>\n",
       "    </tr>\n",
       "    <tr>\n",
       "      <th>660</th>\n",
       "      <td>1</td>\n",
       "      <td>1</td>\n",
       "    </tr>\n",
       "    <tr>\n",
       "      <th>411</th>\n",
       "      <td>0</td>\n",
       "      <td>0</td>\n",
       "    </tr>\n",
       "  </tbody>\n",
       "</table>\n",
       "</div>"
      ],
      "text/plain": [
       "     Actual Value  Predicted Value\n",
       "521             1                1\n",
       "737             1                1\n",
       "740             1                1\n",
       "660             1                1\n",
       "411             0                0"
      ]
     },
     "execution_count": 8,
     "metadata": {},
     "output_type": "execute_result"
    }
   ],
   "source": [
    "df1=pd.DataFrame({'Actual Value':y_test,'Predicted Value':pred})\n",
    "df1.head()"
   ]
  },
  {
   "cell_type": "code",
   "execution_count": 9,
   "metadata": {},
   "outputs": [
    {
     "data": {
      "text/html": [
       "<div>\n",
       "<style scoped>\n",
       "    .dataframe tbody tr th:only-of-type {\n",
       "        vertical-align: middle;\n",
       "    }\n",
       "\n",
       "    .dataframe tbody tr th {\n",
       "        vertical-align: top;\n",
       "    }\n",
       "\n",
       "    .dataframe thead th {\n",
       "        text-align: right;\n",
       "    }\n",
       "</style>\n",
       "<table border=\"1\" class=\"dataframe\">\n",
       "  <thead>\n",
       "    <tr style=\"text-align: right;\">\n",
       "      <th></th>\n",
       "      <th>Actual Value</th>\n",
       "      <th>Predicted Value</th>\n",
       "      <th>Clicked Or Not</th>\n",
       "    </tr>\n",
       "  </thead>\n",
       "  <tbody>\n",
       "    <tr>\n",
       "      <th>521</th>\n",
       "      <td>1</td>\n",
       "      <td>1</td>\n",
       "      <td>Yes,Clicked!</td>\n",
       "    </tr>\n",
       "    <tr>\n",
       "      <th>737</th>\n",
       "      <td>1</td>\n",
       "      <td>1</td>\n",
       "      <td>Yes,Clicked!</td>\n",
       "    </tr>\n",
       "    <tr>\n",
       "      <th>740</th>\n",
       "      <td>1</td>\n",
       "      <td>1</td>\n",
       "      <td>Yes,Clicked!</td>\n",
       "    </tr>\n",
       "    <tr>\n",
       "      <th>660</th>\n",
       "      <td>1</td>\n",
       "      <td>1</td>\n",
       "      <td>Yes,Clicked!</td>\n",
       "    </tr>\n",
       "    <tr>\n",
       "      <th>411</th>\n",
       "      <td>0</td>\n",
       "      <td>0</td>\n",
       "      <td>Not Clicked!</td>\n",
       "    </tr>\n",
       "    <tr>\n",
       "      <th>678</th>\n",
       "      <td>0</td>\n",
       "      <td>0</td>\n",
       "      <td>Not Clicked!</td>\n",
       "    </tr>\n",
       "    <tr>\n",
       "      <th>626</th>\n",
       "      <td>0</td>\n",
       "      <td>0</td>\n",
       "      <td>Not Clicked!</td>\n",
       "    </tr>\n",
       "    <tr>\n",
       "      <th>513</th>\n",
       "      <td>1</td>\n",
       "      <td>1</td>\n",
       "      <td>Yes,Clicked!</td>\n",
       "    </tr>\n",
       "    <tr>\n",
       "      <th>859</th>\n",
       "      <td>0</td>\n",
       "      <td>0</td>\n",
       "      <td>Not Clicked!</td>\n",
       "    </tr>\n",
       "    <tr>\n",
       "      <th>136</th>\n",
       "      <td>1</td>\n",
       "      <td>1</td>\n",
       "      <td>Yes,Clicked!</td>\n",
       "    </tr>\n",
       "  </tbody>\n",
       "</table>\n",
       "</div>"
      ],
      "text/plain": [
       "     Actual Value  Predicted Value Clicked Or Not\n",
       "521             1                1   Yes,Clicked!\n",
       "737             1                1   Yes,Clicked!\n",
       "740             1                1   Yes,Clicked!\n",
       "660             1                1   Yes,Clicked!\n",
       "411             0                0   Not Clicked!\n",
       "678             0                0   Not Clicked!\n",
       "626             0                0   Not Clicked!\n",
       "513             1                1   Yes,Clicked!\n",
       "859             0                0   Not Clicked!\n",
       "136             1                1   Yes,Clicked!"
      ]
     },
     "execution_count": 9,
     "metadata": {},
     "output_type": "execute_result"
    }
   ],
   "source": [
    "v=[]\n",
    "for x in pred:\n",
    "    if x==1:\n",
    "        v.append('Yes,Clicked!')\n",
    "    else:\n",
    "        v.append('Not Clicked!')\n",
    "\n",
    "df1['Clicked Or Not']=v\n",
    "df1.head(10)"
   ]
  },
  {
   "cell_type": "code",
   "execution_count": 10,
   "metadata": {},
   "outputs": [
    {
     "data": {
      "text/plain": [
       "Index(['Daily Time Spent on Site', 'Age', 'Area Income',\n",
       "       'Daily Internet Usage', 'Male'],\n",
       "      dtype='object')"
      ]
     },
     "execution_count": 10,
     "metadata": {},
     "output_type": "execute_result"
    }
   ],
   "source": [
    "X_test.columns"
   ]
  },
  {
   "cell_type": "code",
   "execution_count": 11,
   "metadata": {},
   "outputs": [
    {
     "data": {
      "text/html": [
       "<div>\n",
       "<style scoped>\n",
       "    .dataframe tbody tr th:only-of-type {\n",
       "        vertical-align: middle;\n",
       "    }\n",
       "\n",
       "    .dataframe tbody tr th {\n",
       "        vertical-align: top;\n",
       "    }\n",
       "\n",
       "    .dataframe thead th {\n",
       "        text-align: right;\n",
       "    }\n",
       "</style>\n",
       "<table border=\"1\" class=\"dataframe\">\n",
       "  <thead>\n",
       "    <tr style=\"text-align: right;\">\n",
       "      <th></th>\n",
       "      <th>Daily Time Spent on Site</th>\n",
       "      <th>Age</th>\n",
       "      <th>Area Income</th>\n",
       "      <th>Daily Internet Usage</th>\n",
       "      <th>Male</th>\n",
       "    </tr>\n",
       "  </thead>\n",
       "  <tbody>\n",
       "    <tr>\n",
       "      <th>0</th>\n",
       "      <td>0.521163</td>\n",
       "      <td>0.238095</td>\n",
       "      <td>0.622873</td>\n",
       "      <td>0.098543</td>\n",
       "      <td>1.0</td>\n",
       "    </tr>\n",
       "    <tr>\n",
       "      <th>1</th>\n",
       "      <td>0.656638</td>\n",
       "      <td>0.785714</td>\n",
       "      <td>0.420301</td>\n",
       "      <td>0.112155</td>\n",
       "      <td>0.0</td>\n",
       "    </tr>\n",
       "  </tbody>\n",
       "</table>\n",
       "</div>"
      ],
      "text/plain": [
       "   Daily Time Spent on Site       Age  Area Income  Daily Internet Usage  Male\n",
       "0                  0.521163  0.238095     0.622873              0.098543   1.0\n",
       "1                  0.656638  0.785714     0.420301              0.112155   0.0"
      ]
     },
     "execution_count": 11,
     "metadata": {},
     "output_type": "execute_result"
    }
   ],
   "source": [
    "X_test.head(2)"
   ]
  },
  {
   "cell_type": "markdown",
   "metadata": {},
   "source": [
    "Now Let us supoose we have a person , SAY, Mr.XYZ, whose features are as follows:\n",
    "    \n",
    "- Daily Time spent on site :30.00 \n",
    "\n",
    "- Age :45\n",
    "    \n",
    "- Area Income :60000.20\n",
    "\n",
    "- Daily Internet Usage :300.00\n",
    "\n",
    "- Male :1(Yes)\n",
    "\n",
    "Let us predict whether he would have clicked on Ad or not , based on our Prediction Model:"
   ]
  },
  {
   "cell_type": "code",
   "execution_count": 12,
   "metadata": {},
   "outputs": [],
   "source": [
    "testcase=[[30.00,45,60000.20,300.00,1]]"
   ]
  },
  {
   "cell_type": "code",
   "execution_count": 13,
   "metadata": {},
   "outputs": [
    {
     "data": {
      "text/plain": [
       "array([0], dtype=int64)"
      ]
     },
     "execution_count": 13,
     "metadata": {},
     "output_type": "execute_result"
    }
   ],
   "source": [
    "tp=lr_clf.predict(testcase)\n",
    "tp"
   ]
  },
  {
   "cell_type": "code",
   "execution_count": 14,
   "metadata": {},
   "outputs": [
    {
     "data": {
      "text/plain": [
       "95.0"
      ]
     },
     "execution_count": 14,
     "metadata": {},
     "output_type": "execute_result"
    }
   ],
   "source": [
    "acc_logreg = round(accuracy_score(pred, y_test)*100, 2)\n",
    "acc_logreg"
   ]
  },
  {
   "cell_type": "code",
   "execution_count": 15,
   "metadata": {},
   "outputs": [
    {
     "name": "stdout",
     "output_type": "stream",
     "text": [
      "              precision    recall  f1-score   support\n",
      "\n",
      "           0       0.92      0.99      0.95       146\n",
      "           1       0.99      0.92      0.95       154\n",
      "\n",
      "    accuracy                           0.95       300\n",
      "   macro avg       0.95      0.95      0.95       300\n",
      "weighted avg       0.95      0.95      0.95       300\n",
      "\n",
      "[[144   2]\n",
      " [ 13 141]]\n"
     ]
    }
   ],
   "source": [
    "print(classification_report(y_test, pred))\n",
    "print(confusion_matrix(y_test, pred))"
   ]
  },
  {
   "cell_type": "markdown",
   "metadata": {},
   "source": [
    "#### The Accuracy Score of 92+ shows that the model is successful in predicting the click through rates of the advertisements."
   ]
  },
  {
   "cell_type": "code",
   "execution_count": 35,
   "metadata": {},
   "outputs": [
    {
     "data": {
      "image/png": "[encoded data removed]",
      "text/plain": [
       "<Figure size 1152x720 with 2 Axes>"
      ]
     },
     "metadata": {},
     "output_type": "display_data"
    }
   ],
   "source": [
    "from sklearn.metrics import precision_recall_curve\n",
    "\n",
    "def plot_precision_recall_vs_threshold(precisions, recalls, thresholds):\n",
    "    plt.plot(thresholds, precisions[:-1], \"b--\", label=\"Precision\")\n",
    "    plt.plot(thresholds, recalls[:-1], \"g--\", label=\"Recall\")\n",
    "    plt.xlabel(\"Threshold\")\n",
    "    plt.legend(loc=\"upper left\")\n",
    "    plt.title(\"Precisions/recalls tradeoff\")\n",
    "\n",
    "precisions, recalls, thresholds = precision_recall_curve(y_test, lr_clf.predict(X_test))\n",
    "\n",
    "plt.figure(figsize=(16, 10))\n",
    "plt.subplot(2, 2, 1)\n",
    "plot_precision_recall_vs_threshold(precisions, recalls, thresholds)\n",
    "\n",
    "plt.subplot(2, 2, 2)\n",
    "plt.plot(precisions, recalls)\n",
    "plt.xlabel(\"Precision\")\n",
    "plt.ylabel(\"Recall\")\n",
    "plt.title(\"PR Curve: precisions/recalls tradeoff\");"
   ]
  },
  {
   "cell_type": "markdown",
   "metadata": {},
   "source": [
    "#### With this chart, you can select the threshold value that gives you the best precision/recall tradeoff for your task."
   ]
  },
  {
   "cell_type": "markdown",
   "metadata": {},
   "source": [
    "## The Receiver Operating Characteristics (ROC) Curve"
   ]
  },
  {
   "cell_type": "code",
   "execution_count": 36,
   "metadata": {},
   "outputs": [
    {
     "data": {
      "text/plain": [
       "0.9509428927237147"
      ]
     },
     "execution_count": 36,
     "metadata": {},
     "output_type": "execute_result"
    }
   ],
   "source": [
    "from sklearn.metrics import roc_auc_score\n",
    "roc_auc_score(y_test, lr_clf.predict(X_test))"
   ]
  },
  {
   "cell_type": "code",
   "execution_count": 39,
   "metadata": {},
   "outputs": [
    {
     "data": {
      "image/png": "[encoded data removed]",
      "text/plain": [
       "<Figure size 1152x432 with 1 Axes>"
      ]
     },
     "metadata": {},
     "output_type": "display_data"
    }
   ],
   "source": [
    "from sklearn.metrics import roc_curve\n",
    "\n",
    "def plot_roc_curve(fpr, tpr, label=None):\n",
    "    plt.plot(fpr, tpr, linewidth=2, label=label)\n",
    "    plt.plot([0, 1], [0, 1], \"k--\")\n",
    "    plt.axis([0, 1, 0, 1])\n",
    "    plt.xlabel('False Positive Rate')\n",
    "    plt.ylabel('True Positive Rate')\n",
    "    plt.title('ROC Curve')\n",
    "\n",
    "fpr, tpr, thresholds = roc_curve(y_test, lr_clf.predict(X_test))\n",
    "plt.figure(figsize=(16,6)); \n",
    "plot_roc_curve(fpr, tpr)\n",
    "plt.show();"
   ]
  },
  {
   "cell_type": "markdown",
   "metadata": {},
   "source": [
    "## Logistic Regression Hyperparameter tuning"
   ]
  },
  {
   "cell_type": "code",
   "execution_count": 40,
   "metadata": {},
   "outputs": [
    {
     "name": "stdout",
     "output_type": "stream",
     "text": [
      "Fitting 10 folds for each of 64 candidates, totalling 640 fits\n"
     ]
    },
    {
     "name": "stderr",
     "output_type": "stream",
     "text": [
      "[Parallel(n_jobs=-1)]: Using backend LokyBackend with 8 concurrent workers.\n",
      "[Parallel(n_jobs=-1)]: Done  34 tasks      | elapsed:    3.1s\n",
      "[Parallel(n_jobs=-1)]: Done 600 tasks      | elapsed:    5.1s\n",
      "[Parallel(n_jobs=-1)]: Done 640 out of 640 | elapsed:    5.2s finished\n"
     ]
    },
    {
     "name": "stdout",
     "output_type": "stream",
     "text": [
      "Best parameters: {'C': 0.5, 'class_weight': {1: 0.6, 0: 0.4}, 'penalty': 'l2', 'solver': 'saga'}\n",
      "Train Result:\n",
      "================================================\n",
      "Accuracy Score: 97.43%\n",
      "_______________________________________________\n",
      "CLASSIFICATION REPORT:\n",
      "                    0           1  accuracy   macro avg  weighted avg\n",
      "precision    0.961538    0.988095  0.974286    0.974817      0.974665\n",
      "recall       0.988701    0.959538  0.974286    0.974119      0.974286\n",
      "f1-score     0.974930    0.973607  0.974286    0.974269      0.974276\n",
      "support    354.000000  346.000000  0.974286  700.000000    700.000000\n",
      "_______________________________________________\n",
      "Confusion Matrix: \n",
      " [[350   4]\n",
      " [ 14 332]]\n",
      "\n",
      "Test Result:\n",
      "================================================\n",
      "Accuracy Score: 95.33%\n",
      "_______________________________________________\n",
      "CLASSIFICATION REPORT:\n",
      "                    0           1  accuracy   macro avg  weighted avg\n",
      "precision    0.934211    0.972973  0.953333    0.953592      0.954109\n",
      "recall       0.972603    0.935065  0.953333    0.953834      0.953333\n",
      "f1-score     0.953020    0.953642  0.953333    0.953331      0.953340\n",
      "support    146.000000  154.000000  0.953333  300.000000    300.000000\n",
      "_______________________________________________\n",
      "Confusion Matrix: \n",
      " [[142   4]\n",
      " [ 10 144]]\n",
      "\n"
     ]
    }
   ],
   "source": [
    "from sklearn.model_selection import GridSearchCV\n",
    "\n",
    "lr_clf = LogisticRegression()\n",
    "\n",
    "penalty = ['l1', 'l2']\n",
    "C = [0.5, 0.6, 0.7, 0.8]\n",
    "class_weight = [{1:0.5, 0:0.5}, {1:0.4, 0:0.6}, {1:0.6, 0:0.4}, {1:0.7, 0:0.3}]\n",
    "solver = ['liblinear', 'saga']\n",
    "\n",
    "param_grid = dict(penalty=penalty, C=C, class_weight=class_weight, solver=solver)\n",
    "\n",
    "lr_cv = GridSearchCV(estimator=lr_clf, param_grid=param_grid, scoring='accuracy',\n",
    "                    verbose=1, n_jobs=-1, cv=10, iid=True)\n",
    "lr_cv.fit(X_train, y_train)\n",
    "best_params = lr_cv.best_params_\n",
    "print(f\"Best parameters: {best_params}\")\n",
    "\n",
    "lr_clf = LogisticRegression(**best_params)\n",
    "lr_clf.fit(X_train, y_train)\n",
    "\n",
    "print_score(lr_clf, X_train, y_train, X_test, y_test, train=True)\n",
    "print_score(lr_clf, X_train, y_train, X_test, y_test, train=False)"
   ]
  },
  {
   "cell_type": "code",
   "execution_count": 16,
   "metadata": {},
   "outputs": [
    {
     "name": "stdout",
     "output_type": "stream",
     "text": [
      "LogisticRegression report:\n",
      "Train score 0.9742857142857143\n",
      "Test score 0.9533333333333334\n",
      "\n",
      "Train confusion matrix:\n",
      " [[351   3]\n",
      " [ 15 331]] \n",
      "\n",
      "Test confusion matrix:\n",
      " [[143   3]\n",
      " [ 11 143]]\n",
      "**************************************************\n",
      "RandomForestClassifier report:\n",
      "Train score 1.0\n",
      "Test score 0.9566666666666667\n",
      "\n",
      "Train confusion matrix:\n",
      " [[354   0]\n",
      " [  0 346]] \n",
      "\n",
      "Test confusion matrix:\n",
      " [[141   5]\n",
      " [  8 146]]\n",
      "**************************************************\n",
      "XGBClassifier report:\n",
      "Train score 1.0\n",
      "Test score 0.95\n",
      "\n",
      "Train confusion matrix:\n",
      " [[354   0]\n",
      " [  0 346]] \n",
      "\n",
      "Test confusion matrix:\n",
      " [[138   8]\n",
      " [  7 147]]\n",
      "**************************************************\n"
     ]
    }
   ],
   "source": [
    "from sklearn.ensemble import RandomForestClassifier\n",
    "from xgboost import XGBClassifier\n",
    "\n",
    "models = [LogisticRegression(),\n",
    "          RandomForestClassifier(),\n",
    "          XGBClassifier()\n",
    "         ]\n",
    "\n",
    "names = [ 'LogisticRegression',\n",
    "          'RandomForestClassifier',\n",
    "          'XGBClassifier']\n",
    "\n",
    "for model,name in zip(models,names):\n",
    "  m = model.fit(X_train,y_train)\n",
    "  print(name, 'report:')\n",
    "  print('Train score',model.score(X_train,y_train))\n",
    "  print('Test score',model.score(X_test,y_test))\n",
    "  print()\n",
    "  print(\"Train confusion matrix:\\n\",confusion_matrix(y_train, model.predict(X_train)),'\\n')\n",
    "  print(\"Test confusion matrix:\\n\",confusion_matrix(y_test, model.predict(X_test)))\n",
    "  print('*'*50)"
   ]
  },
  {
   "cell_type": "code",
   "execution_count": 17,
   "metadata": {},
   "outputs": [],
   "source": [
    "from sklearn.metrics import precision_score, recall_score, f1_score\n",
    "from sklearn.metrics import accuracy_score"
   ]
  },
  {
   "cell_type": "code",
   "execution_count": 18,
   "metadata": {},
   "outputs": [
    {
     "name": "stdout",
     "output_type": "stream",
     "text": [
      "**************************************************\n",
      "Report\n",
      "model : RandomForestClassifier\n",
      "Train score 1.0\n",
      "Test score 0.95\n",
      "\n",
      "accuracy: 0.96\n",
      "Precision : 0.967\n",
      "Recall : 0.955\n",
      "F1 : 0.961\n",
      "\n",
      "Train confusion matrix:\n",
      " [[354   0]\n",
      " [  0 346]] \n",
      "\n",
      "Test confusion matrix:\n",
      " [[138   8]\n",
      " [  7 147]]\n",
      "**************************************************\n"
     ]
    }
   ],
   "source": [
    "m = RandomForestClassifier().fit(X_train,y_train)\n",
    "pred_y = m.predict(X_test)\n",
    "print('*'*50)\n",
    "print('Report')\n",
    "print('model : RandomForestClassifier')\n",
    "print('Train score',model.score(X_train,y_train))\n",
    "print('Test score',model.score(X_test,y_test))\n",
    "print()\n",
    "print(\"accuracy: %.2f\" %accuracy_score(y_test, pred_y))\n",
    "print(\"Precision : %.3f\" % precision_score(y_test, pred_y))\n",
    "print(\"Recall : %.3f\" % recall_score(y_test, pred_y))\n",
    "print(\"F1 : %.3f\" % f1_score(y_test, pred_y))\n",
    "print()\n",
    "print(\"Train confusion matrix:\\n\",confusion_matrix(y_train, model.predict(X_train)),'\\n')\n",
    "print(\"Test confusion matrix:\\n\",confusion_matrix(y_test, model.predict(X_test)))\n",
    "print('*'*50)"
   ]
  },
  {
   "cell_type": "code",
   "execution_count": 19,
   "metadata": {},
   "outputs": [
    {
     "name": "stdout",
     "output_type": "stream",
     "text": [
      "Train score 1.0\n",
      "Test score 0.95\n",
      "[[-5.02533198  2.87441382 -3.26818334 -5.81221042 -0.30907786]]\n"
     ]
    }
   ],
   "source": [
    "lr_clf = LogisticRegression(solver='liblinear')\n",
    "lr_clf.fit(X_train, y_train)\n",
    "\n",
    "print('Train score',model.score(X_train,y_train))\n",
    "print('Test score',model.score(X_test,y_test))\n",
    "\n",
    "lrCoef = LogisticRegression().fit(X_train,y_train).coef_\n",
    "print(lrCoef)"
   ]
  },
  {
   "cell_type": "code",
   "execution_count": 20,
   "metadata": {},
   "outputs": [
    {
     "data": {
      "text/html": [
       "<div>\n",
       "<style scoped>\n",
       "    .dataframe tbody tr th:only-of-type {\n",
       "        vertical-align: middle;\n",
       "    }\n",
       "\n",
       "    .dataframe tbody tr th {\n",
       "        vertical-align: top;\n",
       "    }\n",
       "\n",
       "    .dataframe thead th {\n",
       "        text-align: right;\n",
       "    }\n",
       "</style>\n",
       "<table border=\"1\" class=\"dataframe\">\n",
       "  <thead>\n",
       "    <tr style=\"text-align: right;\">\n",
       "      <th></th>\n",
       "      <th>Feature</th>\n",
       "      <th>Coef</th>\n",
       "      <th>Absuolute num of Coef</th>\n",
       "    </tr>\n",
       "  </thead>\n",
       "  <tbody>\n",
       "    <tr>\n",
       "      <th>0</th>\n",
       "      <td>Daily Internet Usage</td>\n",
       "      <td>-5.812210</td>\n",
       "      <td>5.812210</td>\n",
       "    </tr>\n",
       "    <tr>\n",
       "      <th>1</th>\n",
       "      <td>Daily Time Spent on Site</td>\n",
       "      <td>-5.025332</td>\n",
       "      <td>5.025332</td>\n",
       "    </tr>\n",
       "    <tr>\n",
       "      <th>2</th>\n",
       "      <td>Area Income</td>\n",
       "      <td>-3.268183</td>\n",
       "      <td>3.268183</td>\n",
       "    </tr>\n",
       "    <tr>\n",
       "      <th>3</th>\n",
       "      <td>Age</td>\n",
       "      <td>2.874414</td>\n",
       "      <td>2.874414</td>\n",
       "    </tr>\n",
       "    <tr>\n",
       "      <th>4</th>\n",
       "      <td>Male</td>\n",
       "      <td>-0.309078</td>\n",
       "      <td>0.309078</td>\n",
       "    </tr>\n",
       "  </tbody>\n",
       "</table>\n",
       "</div>"
      ],
      "text/plain": [
       "                    Feature      Coef  Absuolute num of Coef\n",
       "0      Daily Internet Usage -5.812210               5.812210\n",
       "1  Daily Time Spent on Site -5.025332               5.025332\n",
       "2               Area Income -3.268183               3.268183\n",
       "3                       Age  2.874414               2.874414\n",
       "4                      Male -0.309078               0.309078"
      ]
     },
     "execution_count": 20,
     "metadata": {},
     "output_type": "execute_result"
    }
   ],
   "source": [
    "coefdf = pd.DataFrame(data=X_train.columns, index=range(0, len(lrCoef[0])), columns=['Feature'])\n",
    "coefdf['Coef'] = lrCoef[0]\n",
    "coefdf['Absuolute num of Coef'] = abs(lrCoef[0])\n",
    "coefdf = coefdf.sort_values(by='Absuolute num of Coef', ascending=False).reset_index(drop=True)\n",
    "coefdf"
   ]
  },
  {
   "cell_type": "code",
   "execution_count": 32,
   "metadata": {},
   "outputs": [
    {
     "data": {
      "image/png": "[encoded data removed]",
      "text/plain": [
       "<Figure size 1008x432 with 1 Axes>"
      ]
     },
     "metadata": {},
     "output_type": "display_data"
    }
   ],
   "source": [
    "fig, ax = plt.subplots(figsize=(14,6))\n",
    "sns.barplot(data=coefdf, y=coefdf['Feature'], x=coefdf['Coef'],palette='winter')\n",
    "\n",
    "plt.xticks(fontsize=13)\n",
    "plt.yticks(fontsize=13)\n",
    "\n",
    "plt.title('Coefficient of Logistic Regression\\n(score : 95%)', fontsize=18)\n",
    "plt.xlabel('Coefficient',fontsize=16)\n",
    "\n",
    "plt.savefig('Coefficient of Logistic Regression.png',fontsize=18)\n",
    "sns.despine(left=True)\n",
    "plt.show()"
   ]
  },
  {
   "cell_type": "code",
   "execution_count": 22,
   "metadata": {},
   "outputs": [],
   "source": [
    "import shap"
   ]
  },
  {
   "cell_type": "code",
   "execution_count": 28,
   "metadata": {},
   "outputs": [
    {
     "data": {
      "image/png": "[encoded data removed]",
      "text/plain": [
       "<Figure size 576x288 with 3 Axes>"
      ]
     },
     "metadata": {},
     "output_type": "display_data"
    }
   ],
   "source": [
    "XGBmodel = XGBClassifier().fit(X_train, y_train)\n",
    "\n",
    "explainer = shap.Explainer(XGBmodel)\n",
    "shap_values = explainer(X_train)\n",
    "\n",
    "# visualize the first prediction's explanation\n",
    "shap.plots.waterfall(shap_values[0], show=False)\n",
    "plt.title('SHAP of XGBoost Classifier\\n(score : 95%)',fontsize=18)\n",
    "plt.show()"
   ]
  },
  {
   "cell_type": "code",
   "execution_count": 24,
   "metadata": {},
   "outputs": [
    {
     "data": {
      "image/png": "[encoded data removed]",
      "text/plain": [
       "<Figure size 1008x432 with 1 Axes>"
      ]
     },
     "metadata": {},
     "output_type": "display_data"
    }
   ],
   "source": [
    "RFmodel = RandomForestClassifier().fit(X_train, y_train)\n",
    "\n",
    "explainer = shap.TreeExplainer(RFmodel)\n",
    "shap_values = explainer.shap_values(X_test)\n",
    "\n",
    "plt.xticks(fontsize=12)\n",
    "plt.yticks(fontsize=12)\n",
    "\n",
    "# fig, ax = plt.subplots(figsize=(10,5))\n",
    "shap.summary_plot(shap_values, X_test, plot_size=(14,6), show=False)\n",
    "plt.title('SHAP of Random Forest Classifier\\n(score : 96%)',fontsize=18)\n",
    "plt.show()"
   ]
  },
  {
   "cell_type": "code",
   "execution_count": 31,
   "metadata": {},
   "outputs": [
    {
     "data": {
      "image/png": "[encoded data removed]",
      "text/plain": [
       "<Figure size 1008x432 with 1 Axes>"
      ]
     },
     "metadata": {},
     "output_type": "display_data"
    }
   ],
   "source": [
    "from sklearn.inspection import permutation_importance\n",
    "\n",
    "result = permutation_importance(RFmodel, X_test, y_test, n_repeats=10, random_state=42, n_jobs=2)\n",
    "sorted_idx = result.importances_mean.argsort()\n",
    "\n",
    "plt.figure(figsize=(14,6))\n",
    "plt.title('Permutation Importance of Random Forest Classifier',fontsize=18)\n",
    "plt.xticks(fontsize=13)\n",
    "plt.yticks(fontsize=13)\n",
    "\n",
    "plt.boxplot(result.importances[sorted_idx].T,vert=False, labels=X.columns[sorted_idx]);"
   ]
  },
  {
   "cell_type": "markdown",
   "metadata": {},
   "source": [
    "## Daily Internet Usage is the most important feature.\n",
    "\n",
    "- The lower **Daily Internet Usage** and **Daily Time Spent on Site**, the more likely to click the ad.\n",
    "\n",
    "- **Sex** and **age** are the least relevant feature.\n",
    "\n",
    "- **Area Income** affects a little.\n",
    "\n",
    "- Thus, targeting ads to the people who use the internet little and rarely spend time on a website is efficient to make more likely to click the ad."
   ]
  }
 ],
 "metadata": {
  "kernelspec": {
   "display_name": "Python 3.8.10 64-bit",
   "language": "python",
   "name": "python3"
  },
  "language_info": {
   "codemirror_mode": {
    "name": "ipython",
    "version": 3
   },
   "file_extension": ".py",
   "mimetype": "text/x-python",
   "name": "python",
   "nbconvert_exporter": "python",
   "pygments_lexer": "ipython3",
   "version": "3.8.10"
  },
  "vscode": {
   "interpreter": {
    "hash": "e7370f93d1d0cde622a1f8e1c04877d8463912d04d973331ad4851f04de6915a"
   }
  }
 },
 "nbformat": 4,
 "nbformat_minor": 4
}
